{
 "cells": [
  {
   "cell_type": "code",
   "execution_count": 1,
   "metadata": {
    "collapsed": false
   },
   "outputs": [
    {
     "name": "stdout",
     "output_type": "stream",
     "text": [
      "Populating the interactive namespace from numpy and matplotlib\n"
     ]
    }
   ],
   "source": [
    "import openpiv.tools\n",
    "import openpiv.process\n",
    "import openpiv.scaling\n",
    "import numpy as np\n",
    "import glob\n",
    "%pylab inline"
   ]
  },
  {
   "cell_type": "code",
   "execution_count": 2,
   "metadata": {
    "collapsed": false
   },
   "outputs": [
    {
     "ename": "IndexError",
     "evalue": "list index out of range",
     "output_type": "error",
     "traceback": [
      "\u001b[0;31m---------------------------------------------------------------------------\u001b[0m",
      "\u001b[0;31mIndexError\u001b[0m                                Traceback (most recent call last)",
      "\u001b[0;32m<ipython-input-2-ff22820434de>\u001b[0m in \u001b[0;36m<module>\u001b[0;34m()\u001b[0m\n\u001b[1;32m      1\u001b[0m \u001b[0;34m\u001b[0m\u001b[0m\n\u001b[1;32m      2\u001b[0m \u001b[0mfilelist\u001b[0m \u001b[0;34m=\u001b[0m \u001b[0msorted\u001b[0m\u001b[0;34m(\u001b[0m\u001b[0mglob\u001b[0m\u001b[0;34m.\u001b[0m\u001b[0mglob\u001b[0m\u001b[0;34m(\u001b[0m\u001b[0;34m'shifted/*.tif'\u001b[0m\u001b[0;34m)\u001b[0m\u001b[0;34m)\u001b[0m\u001b[0;34m\u001b[0m\u001b[0m\n\u001b[0;32m----> 3\u001b[0;31m \u001b[0;32mprint\u001b[0m \u001b[0mfilelist\u001b[0m\u001b[0;34m[\u001b[0m\u001b[0;36m0\u001b[0m\u001b[0;34m]\u001b[0m\u001b[0;34m,\u001b[0m\u001b[0mfilelist\u001b[0m\u001b[0;34m[\u001b[0m\u001b[0;36m1\u001b[0m\u001b[0;34m]\u001b[0m\u001b[0;34m\u001b[0m\u001b[0m\n\u001b[0m\u001b[1;32m      4\u001b[0m \u001b[0;31m# Read the pair of images\u001b[0m\u001b[0;34m\u001b[0m\u001b[0;34m\u001b[0m\u001b[0m\n\u001b[1;32m      5\u001b[0m \u001b[0mimg_a\u001b[0m  \u001b[0;34m=\u001b[0m \u001b[0mopenpiv\u001b[0m\u001b[0;34m.\u001b[0m\u001b[0mtools\u001b[0m\u001b[0;34m.\u001b[0m\u001b[0mimread\u001b[0m\u001b[0;34m(\u001b[0m \u001b[0mfilelist\u001b[0m\u001b[0;34m[\u001b[0m\u001b[0;36m0\u001b[0m\u001b[0;34m]\u001b[0m \u001b[0;34m)\u001b[0m\u001b[0;34m\u001b[0m\u001b[0m\n",
      "\u001b[0;31mIndexError\u001b[0m: list index out of range"
     ]
    }
   ],
   "source": [
    "filelist = sorted(glob.glob('shifted/*.tif'))\n",
    "print filelist[0],filelist[1]\n",
    "# Read the pair of images\n",
    "img_a  = openpiv.tools.imread( filelist[0] )\n",
    "img_b  = openpiv.tools.imread( filelist[1] )"
   ]
  },
  {
   "cell_type": "code",
   "execution_count": null,
   "metadata": {
    "collapsed": false
   },
   "outputs": [],
   "source": [
    "\n",
    "# Show the image in greyscale\n",
    "imshow(np.c_[img_a,img_b],cmap=cm.gray) "
   ]
  },
  {
   "cell_type": "code",
   "execution_count": null,
   "metadata": {
    "collapsed": false
   },
   "outputs": [],
   "source": [
    "window_size = 32 # pixels\n",
    "overlap = 16 # pixels, i.e. 50%\n",
    "dt = 1./15 # 15 Hz laser and CCD recording\n",
    "# process PIV\n",
    "u, v, sig2noise = \\\n",
    "openpiv.process.extended_search_area_piv( \\\n",
    "                                         img_a, img_b, \\\n",
    "                                         window_size=window_size,\\\n",
    "                                         overlap = overlap, \\\n",
    "                                         dt = dt, \\\n",
    "                                         search_area_size=2*window_size, \\\n",
    "                                         sig2noise_method='peak2peak' )\n",
    "\n",
    "# get the central points of the interrogation windows\n",
    "x, y = openpiv.process.get_coordinates( image_size = img_a.shape, \\\n",
    "                                       window_size = window_size, \\\n",
    "                                       overlap  = overlap )"
   ]
  },
  {
   "cell_type": "code",
   "execution_count": null,
   "metadata": {
    "collapsed": false
   },
   "outputs": [],
   "source": [
    "# peak to peak ratio to mask errorneous vectors is about 1.1 - 1.3\n",
    "u, v, mask = openpiv.validation.sig2noise_val( u, v, sig2noise, threshold = 1.1 )"
   ]
  },
  {
   "cell_type": "code",
   "execution_count": null,
   "metadata": {
    "collapsed": false
   },
   "outputs": [],
   "source": [
    "# Replace outliers (masked in the previous step) using the local mean filter:\n",
    "u, v = openpiv.filters.replace_outliers( u, v, method='localmean', max_iter=10, kernel_size=2)"
   ]
  },
  {
   "cell_type": "code",
   "execution_count": null,
   "metadata": {
    "collapsed": false
   },
   "outputs": [],
   "source": [
    "# rescale the data from pixel/dt into mm/sec\n",
    "x, y, u, v = openpiv.scaling.uniform(x, y, u, v, scaling_factor = 1.0 )"
   ]
  },
  {
   "cell_type": "code",
   "execution_count": null,
   "metadata": {
    "collapsed": false
   },
   "outputs": [],
   "source": [
    "# save the result if you need or show it in a plot (see below):\n",
    "openpiv.tools.save(x, y, u, v, mask, filelist[0]+'.txt' )\n",
    "# openpiv.tools.display_vector_field(filelist[0]+'.txt', scale=5000, width=0.0025)"
   ]
  },
  {
   "cell_type": "code",
   "execution_count": null,
   "metadata": {
    "collapsed": false
   },
   "outputs": [],
   "source": [
    "# Show the vectof flow field using vertical velocity for the color mapping\n",
    "figure(figsize=(10,10))\n",
    "ax = axes()\n",
    "quiver(x,y,u,v,u**2+v**2,scale=3000)\n",
    "axis('tight')\n",
    "ax.set_aspect(.9)\n",
    "# f = gcf()\n",
    "# f.set_size_inches(10,10)\n",
    "colorbar(orientation='horizontal')\n",
    "xlabel('x [pixel]')\n",
    "ylabel('y [pixel]')\n"
   ]
  },
  {
   "cell_type": "code",
   "execution_count": null,
   "metadata": {
    "collapsed": false
   },
   "outputs": [],
   "source": []
  }
 ],
 "metadata": {
  "kernelspec": {
   "display_name": "Python 2",
   "language": "python",
   "name": "python2"
  },
  "language_info": {
   "codemirror_mode": {
    "name": "ipython",
    "version": 2
   },
   "file_extension": ".py",
   "mimetype": "text/x-python",
   "name": "python",
   "nbconvert_exporter": "python",
   "pygments_lexer": "ipython2",
   "version": "2.7.10"
  }
 },
 "nbformat": 4,
 "nbformat_minor": 0
}
