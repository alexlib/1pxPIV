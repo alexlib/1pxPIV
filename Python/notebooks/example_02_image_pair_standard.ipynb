{
 "cells": [
  {
   "cell_type": "markdown",
   "metadata": {},
   "source": [
    "# Example 02 - Standard usage of PIVSuite Python\n",
    "\n",
    "This example demonstrates the standard usage of PIVSuite Python for obtaining the velocity field from a pair of images with custom parameters."
   ]
  },
  {
   "cell_type": "code",
   "execution_count": null,
   "metadata": {},
   "outputs": [],
   "source": [
    "import os\n",
    "import sys\n",
    "import numpy as np\n",
    "import matplotlib.pyplot as plt\n",
    "from pathlib import Path\n",
    "\n",
    "# Add the parent directory to the path so we can import the pivsuite package\n",
    "sys.path.append(str(Path().absolute().parent))\n",
    "\n",
    "from pivsuite.core import analyze_image_pair, piv_params\n",
    "from pivsuite.visualization import quiver_plot, vector_plot, streamline_plot\n",
    "from pivsuite.utils.io import load_image"
   ]
  },
  {
   "cell_type": "markdown",
   "metadata": {},
   "source": [
    "## Define paths to images\n",
    "\n",
    "First, we need to define the paths to the images we want to analyze. We'll use the von Karman vortex street test case."
   ]
  },
  {
   "cell_type": "code",
   "execution_count": null,
   "metadata": {},
   "outputs": [],
   "source": [
    "# Define paths to images\n",
    "data_dir = Path().absolute().parent.parent / \"Data\" / \"Test von Karman\"\n",
    "im1_path = str(data_dir / \"PIVlab_Karman_01.bmp\")\n",
    "im2_path = str(data_dir / \"PIVlab_Karman_02.bmp\")\n",
    "mask_path = str(data_dir / \"PIVlab_Karman_mask.png\")\n",
    "\n",
    "# Check if the image files exist\n",
    "if not os.path.exists(im1_path) or not os.path.exists(im2_path) or not os.path.exists(mask_path):\n",
    "    print(f\"Error: Image files not found. Please check the paths.\")\n",
    "else:\n",
    "    print(f\"Image paths:\\n  {im1_path}\\n  {im2_path}\\n  Mask: {mask_path}\")"
   ]
  },
  {
   "cell_type": "markdown",
   "metadata": {},
   "source": [
    "## Set PIV parameters\n",
    "\n",
    "Next, we'll set the PIV parameters. Unlike the simple example, here we'll customize several parameters to improve the analysis."
   ]
  },
  {
   "cell_type": "code",
   "execution_count": null,
   "metadata": {},
   "outputs": [],
   "source": [
    "# Set PIV parameters\n",
    "piv_par = {}\n",
    "\n",
    "# Set mask for both images\n",
    "piv_par['im_mask1'] = mask_path\n",
    "piv_par['im_mask2'] = mask_path\n",
    "\n",
    "# Get default parameters\n",
    "piv_par = piv_params(None, piv_par, 'defaults')\n",
    "\n",
    "# Customize parameters\n",
    "piv_par['ia_size_x'] = [64, 32, 16]  # Interrogation area size in x\n",
    "piv_par['ia_size_y'] = [64, 32, 16]  # Interrogation area size in y\n",
    "piv_par['ia_step_x'] = [32, 16, 8]   # Interrogation area step in x\n",
    "piv_par['ia_step_y'] = [32, 16, 8]   # Interrogation area step in y\n",
    "piv_par['ia_method'] = 'defspline'   # Interrogation method ('basic', 'offset', 'defspline')\n",
    "piv_par['cc_window'] = 'welch'       # Window function for cross-correlation\n",
    "piv_par['vl_thresh'] = 2.0           # Threshold for median test\n",
    "piv_par['rp_method'] = 'linear'      # Method for replacing spurious vectors\n",
    "piv_par['sm_method'] = 'gaussian'    # Smoothing method\n",
    "piv_par['sm_sigma'] = 1.0            # Smoothing parameter\n",
    "\n",
    "# Create output directory if it doesn't exist\n",
    "output_dir = Path().absolute().parent / \"output\"\n",
    "output_dir.mkdir(exist_ok=True)"
   ]
  },
  {
   "cell_type": "markdown",
   "metadata": {},
   "source": [
    "## Analyze image pair\n",
    "\n",
    "Now we'll analyze the image pair using the PIVSuite Python package with our custom parameters."
   ]
  },
  {
   "cell_type": "code",
   "execution_count": null,
   "metadata": {},
   "outputs": [],
   "source": [
    "# Analyze image pair\n",
    "print(\"Analyzing image pair...\")\n",
    "piv_data, _ = analyze_image_pair(im1_path, im2_path, None, piv_par)\n",
    "\n",
    "# Print some statistics\n",
    "print(f\"Grid points: {piv_data['n']}\")\n",
    "print(f\"Masked vectors: {piv_data['masked_n']}\")\n",
    "print(f\"Spurious vectors: {piv_data['spurious_n']}\")\n",
    "print(f\"Computational time: {sum(piv_data['comp_time']):.2f} seconds\")"
   ]
  },
  {
   "cell_type": "markdown",
   "metadata": {},
   "source": [
    "## Visualize results\n",
    "\n",
    "Now we'll visualize the results using various visualization methods."
   ]
  },
  {
   "cell_type": "code",
   "execution_count": null,
   "metadata": {},
   "outputs": [],
   "source": [
    "# Load the first image for background\n",
    "im1 = load_image(im1_path)\n",
    "\n",
    "# Create quiver plot with velocity magnitude background\n",
    "print(\"Creating quiver plot...\")\n",
    "fig1 = quiver_plot(\n",
    "    piv_data,\n",
    "    scale=1.0,\n",
    "    color='k',\n",
    "    background='magnitude',\n",
    "    title='Particle displacement (px) in a flow around a cylinder',\n",
    "    output_path=str(output_dir / \"example02_quiver_plot.png\"),\n",
    "    show=True,\n",
    "    xlabel='position X (px)',\n",
    "    ylabel='position Y (px)'\n",
    ")"
   ]
  },
  {
   "cell_type": "markdown",
   "metadata": {},
   "source": [
    "## Create vector plot of velocity magnitude\n",
    "\n",
    "Let's create a vector plot showing the velocity magnitude."
   ]
  },
  {
   "cell_type": "code",
   "execution_count": null,
   "metadata": {},
   "outputs": [],
   "source": [
    "# Create vector plot of velocity magnitude\n",
    "print(\"Creating vector plot of velocity magnitude...\")\n",
    "fig2 = vector_plot(\n",
    "    piv_data,\n",
    "    component='magnitude',\n",
    "    cmap='jet',\n",
    "    title='Velocity Magnitude',\n",
    "    output_path=str(output_dir / \"example02_velocity_magnitude.png\"),\n",
    "    show=True\n",
    ")"
   ]
  },
  {
   "cell_type": "markdown",
   "metadata": {},
   "source": [
    "## Create vector plot of vorticity\n",
    "\n",
    "Let's create a vector plot showing the vorticity."
   ]
  },
  {
   "cell_type": "code",
   "execution_count": null,
   "metadata": {},
   "outputs": [],
   "source": [
    "# Create vector plot of vorticity\n",
    "print(\"Creating vector plot of vorticity...\")\n",
    "fig3 = vector_plot(\n",
    "    piv_data,\n",
    "    component='vorticity',\n",
    "    cmap='RdBu_r',\n",
    "    title='Vorticity',\n",
    "    output_path=str(output_dir / \"example02_vorticity.png\"),\n",
    "    show=True\n",
    ")"
   ]
  },
  {
   "cell_type": "markdown",
   "metadata": {},
   "source": [
    "## Create streamline plot\n",
    "\n",
    "Finally, let's create a streamline plot."
   ]
  },
  {
   "cell_type": "code",
   "execution_count": null,
   "metadata": {},
   "outputs": [],
   "source": [
    "# Create streamline plot\n",
    "print(\"Creating streamline plot...\")\n",
    "fig4 = streamline_plot(\n",
    "    piv_data,\n",
    "    density=1.0,\n",
    "    color='b',\n",
    "    background_image=im1,\n",
    "    title='Streamlines',\n",
    "    output_path=str(output_dir / \"example02_streamlines.png\"),\n",
    "    show=True\n",
    ")"
   ]
  },
  {
   "cell_type": "markdown",
   "metadata": {},
   "source": [
    "## Conclusion\n",
    "\n",
    "In this example, we've demonstrated the standard usage of PIVSuite Python for obtaining the velocity field from a pair of images with custom parameters. We've shown how to:\n",
    "\n",
    "1. Set up custom PIV parameters\n",
    "2. Analyze an image pair\n",
    "3. Visualize the results with different types of plots:\n",
    "   - Quiver plot\n",
    "   - Vector plot of velocity magnitude\n",
    "   - Vector plot of vorticity\n",
    "   - Streamline plot\n",
    "\n",
    "All plots have been saved to the output directory."
   ]
  }
 ],
 "metadata": {
  "kernelspec": {
   "display_name": "Python 3",
   "language": "python",
   "name": "python3"
  },
  "language_info": {
   "codemirror_mode": {
    "name": "ipython",
    "version": 3
   },
   "file_extension": ".py",
   "mimetype": "text/x-python",
   "name": "python",
   "nbconvert_exporter": "python",
   "pygments_lexer": "ipython3",
   "version": "3.8.10"
  }
 },
 "nbformat": 4,
 "nbformat_minor": 4
}
