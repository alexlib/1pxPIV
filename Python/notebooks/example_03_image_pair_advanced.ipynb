{
 "cells": [
  {
   "cell_type": "markdown",
   "metadata": {},
   "source": [
    "# Example 03 - Advanced usage of PIVSuite Python\n",
    "\n",
    "This example demonstrates the advanced usage of PIVSuite Python for obtaining \nthe velocity field from a pair of images with advanced parameters for validation,\nsmoothing, and window functions."
   ]
  },
  {
   "cell_type": "code",
   "execution_count": null,
   "metadata": {},
   "outputs": [],
   "source": [
    "import os\n",
    "import sys\n",
    "import numpy as np\n",
    "import matplotlib.pyplot as plt\n",
    "from pathlib import Path\n",
    "\n",
    "# Add the parent directory to the path so we can import the pivsuite package\n",
    "sys.path.append(str(Path().absolute().parent))\n",
    "\n",
    "from pivsuite.core import analyze_image_pair, piv_params\n",
    "from pivsuite.visualization import quiver_plot, vector_plot, streamline_plot\n",
    "from pivsuite.utils.io import load_image"
   ]
  },
  {
   "cell_type": "markdown",
   "metadata": {},
   "source": [
    "## Setup\n",
    "\n",
    "First, we need to set up the environment and load the data."
   ]
  },
  {
   "cell_type": "code",
   "execution_count": null,
   "metadata": {},
   "outputs": [],
   "source": [
    "    print(\"\\nRUNNING EXAMPLE_03_IMAGE_PAIR_ADVANCED...\")",
    "    "
   ]
  },
  {
   "cell_type": "markdown",
   "metadata": {},
   "source": [
    "## Define paths to images\n",
    "\n",
    "This section demonstrates define paths to images."
   ]
  },
  {
   "cell_type": "code",
   "execution_count": null,
   "metadata": {},
   "outputs": [],
   "source": [
    "    data_dir = Path().absolute().parent.parent / \"Data\" / \"Test von Karman\"",
    "    im1_path = str(data_dir / \"PIVlab_Karman_01.bmp\")",
    "    im2_path = str(data_dir / \"PIVlab_Karman_02.bmp\")",
    "    mask_path = str(data_dir / \"PIVlab_Karman_mask.png\")",
    "    ",
    "    # Check if the image files exist",
    "    if not os.path.exists(im1_path) or not os.path.exists(im2_path) or not os.path.exists(mask_path):",
    "        print(f\"Error: Image files not found. Please check the paths.\")",
    "        return",
    "    ",
    "    print(f\"Image paths:\\n  {im1_path}\\n  {im2_path}\\n  Mask: {mask_path}\")",
    "    ",
    "    # Set PIV parameters",
    "    piv_par = {}",
    "    ",
    "    # Set mask for both images",
    "    piv_par['im_mask1'] = mask_path",
    "    piv_par['im_mask2'] = mask_path",
    "    ",
    "    # Get default parameters",
    "    piv_par = piv_params(None, piv_par, 'defaults')",
    "    "
   ]
  },
  {
   "cell_type": "markdown",
   "metadata": {},
   "source": [
    "## Interrogation area parameters\n",
    "\n",
    "This section demonstrates interrogation area parameters."
   ]
  },
  {
   "cell_type": "code",
   "execution_count": null,
   "metadata": {},
   "outputs": [],
   "source": [
    "    piv_par['ia_size_x'] = [64, 32, 16, 8]  # Interrogation area size in x",
    "    piv_par['ia_size_y'] = [64, 32, 16, 8]  # Interrogation area size in y",
    "    piv_par['ia_step_x'] = [32, 16, 8, 4]   # Interrogation area step in x",
    "    piv_par['ia_step_y'] = [32, 16, 8, 4]   # Interrogation area step in y",
    "    piv_par['ia_method'] = 'defspline'      # Interrogation method ('basic', 'offset', 'defspline')",
    "    piv_par['ia_image_to_deform'] = 'both'  # Deform both images",
    "    "
   ]
  },
  {
   "cell_type": "markdown",
   "metadata": {},
   "source": [
    "## Cross-correlation parameters\n",
    "\n",
    "This section demonstrates cross-correlation parameters."
   ]
  },
  {
   "cell_type": "code",
   "execution_count": null,
   "metadata": {},
   "outputs": [],
   "source": [
    "    piv_par['cc_window'] = 'gaussian'       # Window function for cross-correlation",
    "    piv_par['cc_remove_ia_mean'] = 1.0      # Remove IA mean before cross-correlation",
    "    piv_par['cc_max_displacement'] = 0.7    # Maximum allowed displacement as fraction of IA size",
    "    "
   ]
  },
  {
   "cell_type": "markdown",
   "metadata": {},
   "source": [
    "## Validation parameters\n",
    "\n",
    "This section demonstrates validation parameters."
   ]
  },
  {
   "cell_type": "code",
   "execution_count": null,
   "metadata": {},
   "outputs": [],
   "source": [
    "    piv_par['vl_thresh'] = 1.5              # Threshold for median test (lower = more strict)",
    "    piv_par['vl_eps'] = 0.05                # Epsilon for median test",
    "    piv_par['vl_dist'] = 2                  # Distance for median test",
    "    piv_par['vl_passes'] = 2                # Number of passes for median test",
    "    "
   ]
  },
  {
   "cell_type": "markdown",
   "metadata": {},
   "source": [
    "## Replacement parameters\n",
    "\n",
    "This section demonstrates replacement parameters."
   ]
  },
  {
   "cell_type": "code",
   "execution_count": null,
   "metadata": {},
   "outputs": [],
   "source": [
    "    piv_par['rp_method'] = 'linear'         # Method for replacing spurious vectors",
    "    "
   ]
  },
  {
   "cell_type": "markdown",
   "metadata": {},
   "source": [
    "## Smoothing parameters\n",
    "\n",
    "This section demonstrates smoothing parameters."
   ]
  },
  {
   "cell_type": "code",
   "execution_count": null,
   "metadata": {},
   "outputs": [],
   "source": [
    "    piv_par['sm_method'] = 'gaussian'       # Smoothing method",
    "    piv_par['sm_sigma'] = 1.2               # Smoothing parameter",
    "    piv_par['sm_size'] = 7                  # Size of smoothing filter",
    "    ",
    "    # Create output directory if it doesn't exist",
    "    output_dir = Path().absolute().parent / \"output\"",
    "    output_dir.mkdir(exist_ok=True)",
    "    "
   ]
  },
  {
   "cell_type": "markdown",
   "metadata": {},
   "source": [
    "## Analyze image pair\n",
    "\n",
    "This section demonstrates analyze image pair."
   ]
  },
  {
   "cell_type": "code",
   "execution_count": null,
   "metadata": {},
   "outputs": [],
   "source": [
    "    print(\"Analyzing image pair...\")",
    "    piv_data, _ = analyze_image_pair(im1_path, im2_path, None, piv_par)",
    "    "
   ]
  },
  {
   "cell_type": "markdown",
   "metadata": {},
   "source": [
    "## Print some statistics\n",
    "\n",
    "This section demonstrates print some statistics."
   ]
  },
  {
   "cell_type": "code",
   "execution_count": null,
   "metadata": {},
   "outputs": [],
   "source": [
    "    print(f\"Grid points: {piv_data['n']}\")",
    "    print(f\"Masked vectors: {piv_data['masked_n']}\")",
    "    print(f\"Spurious vectors: {piv_data['spurious_n']}\")",
    "    print(f\"Computational time: {sum(piv_data['comp_time']):.2f} seconds\")",
    "    "
   ]
  },
  {
   "cell_type": "markdown",
   "metadata": {},
   "source": [
    "## Load the first image for background\n",
    "\n",
    "This section demonstrates load the first image for background."
   ]
  },
  {
   "cell_type": "code",
   "execution_count": null,
   "metadata": {},
   "outputs": [],
   "source": [
    "    im1 = load_image(im1_path)",
    "    ",
    "    # Create quiver plot with velocity magnitude background",
    "    print(\"Creating quiver plot...\")",
    "    quiver_plot(",
    "        piv_data,",
    "        scale=1.0,",
    "        color='k',",
    "        background='magnitude',",
    "        title='Particle displacement (px) in a flow around a cylinder',",
    "        output_path=str(output_dir / \"example03_quiver_plot.png\"),",
    "        show=True,",
    "        xlabel='position X (px)',",
    "        ylabel='position Y (px)'",
    "    )",
    "    ",
    "    # Create quiver plot showing valid and replaced vectors",
    "    print(\"Creating quiver plot with valid and replaced vectors...\")",
    "    fig = plt.figure(figsize=(12, 8))",
    "    ",
    "    # Get velocity fields",
    "    x = piv_data['x']",
    "    y = piv_data['y']",
    "    u = piv_data['u']",
    "    v = piv_data['v']",
    "    ",
    "    # Get status array",
    "    status = piv_data.get('status', np.zeros_like(u, dtype=np.uint16))",
    "    ",
    "    # Create masks for valid and replaced vectors",
    "    valid = (status & 11) == 0  # 11 = 1 + 2 + 8",
    "    replaced = (status & 8) != 0",
    "    "
   ]
  },
  {
   "cell_type": "markdown",
   "metadata": {},
   "source": [
    "## Plot velocity magnitude as background\n",
    "\n",
    "This section demonstrates plot velocity magnitude as background."
   ]
  },
  {
   "cell_type": "code",
   "execution_count": null,
   "metadata": {},
   "outputs": [],
   "source": [
    "    magnitude = np.sqrt(u**2 + v**2)",
    "    plt.imshow(magnitude, extent=[x.min(), x.max(), y.max(), y.min()], cmap='jet', origin='upper')",
    "    plt.colorbar(label='Velocity Magnitude (px)')",
    "    "
   ]
  },
  {
   "cell_type": "markdown",
   "metadata": {},
   "source": [
    "## Plot valid vectors in black\n",
    "\n",
    "This section demonstrates plot valid vectors in black."
   ]
  },
  {
   "cell_type": "code",
   "execution_count": null,
   "metadata": {},
   "outputs": [],
   "source": [
    "    plt.quiver(x[valid], y[valid], u[valid], v[valid], color='k', scale=50, width=0.002)",
    "    "
   ]
  },
  {
   "cell_type": "markdown",
   "metadata": {},
   "source": [
    "## Plot replaced vectors in white\n",
    "\n",
    "This section demonstrates plot replaced vectors in white."
   ]
  },
  {
   "cell_type": "code",
   "execution_count": null,
   "metadata": {},
   "outputs": [],
   "source": [
    "    plt.quiver(x[replaced], y[replaced], u[replaced], v[replaced], color='w', scale=50, width=0.002)",
    "    ",
    "    plt.title('Velocity Field (black: valid, white: replaced)')",
    "    plt.xlabel('position X (px)')",
    "    plt.ylabel('position Y (px)')",
    "    plt.tight_layout()",
    "    plt.savefig(str(output_dir / \"example03_quiver_valid_replaced.png\"))",
    "    ",
    "    # Create vector plot of vorticity",
    "    print(\"Creating vector plot of vorticity...\")",
    "    vector_plot(",
    "        piv_data,",
    "        component='vorticity',",
    "        cmap='RdBu_r',",
    "        title='Vorticity',",
    "        output_path=str(output_dir / \"example03_vorticity.png\"),",
    "        show=True",
    "    )",
    "    ",
    "    # Create streamline plot with colored lines based on velocity magnitude",
    "    print(\"Creating colored streamline plot...\")",
    "    fig = plt.figure(figsize=(10, 8))",
    "    "
   ]
  },
  {
   "cell_type": "markdown",
   "metadata": {},
   "source": [
    "## Plot background image\n",
    "\n",
    "This section demonstrates plot background image."
   ]
  },
  {
   "cell_type": "code",
   "execution_count": null,
   "metadata": {},
   "outputs": [],
   "source": [
    "    if im1 is not None:",
    "        plt.imshow(im1, cmap='gray', origin='upper')",
    "    "
   ]
  },
  {
   "cell_type": "markdown",
   "metadata": {},
   "source": [
    "## Plot streamlines colored by velocity magnitude\n",
    "\n",
    "This section demonstrates plot streamlines colored by velocity magnitude."
   ]
  },
  {
   "cell_type": "code",
   "execution_count": null,
   "metadata": {},
   "outputs": [],
   "source": [
    "    strm = plt.streamplot(",
    "        x[0, :], y[:, 0], u, v,",
    "        density=1.5,",
    "        color=magnitude,",
    "        cmap='jet',",
    "        linewidth=1.5,",
    "        arrowsize=1.5",
    "    )",
    "    ",
    "    plt.colorbar(strm.lines, label='Velocity Magnitude (px)')",
    "    plt.title('Streamlines Colored by Velocity Magnitude')",
    "    plt.axis('equal')",
    "    plt.tight_layout()",
    "    plt.savefig(str(output_dir / \"example03_colored_streamlines.png\"))",
    "    ",
    "    print(\"All plots saved to the output directory.\")"
   ]
  },
  {
   "cell_type": "markdown",
   "metadata": {},
   "source": [
    "## Conclusion\n",
    "\n",
    "In this example, we've demonstrated example 03 - advanced usage of pivsuite python. We've shown how to:\n",
    "\n",
    "1. Set up the PIV parameters\n",
    "2. Analyze image data\n",
    "3. Visualize the results\n",
    "\n",
    "All plots have been saved to the output directory."
   ]
  }
 ],
 "metadata": {
  "kernelspec": {
   "display_name": "Python 3",
   "language": "python",
   "name": "python3"
  },
  "language_info": {
   "codemirror_mode": {
    "name": "ipython",
    "version": 3
   },
   "file_extension": ".py",
   "mimetype": "text/x-python",
   "name": "python",
   "nbconvert_exporter": "python",
   "pygments_lexer": "ipython3",
   "version": "3.8.10"
  }
 },
 "nbformat": 4,
 "nbformat_minor": 4
}