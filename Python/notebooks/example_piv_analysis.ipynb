{
 "cells": [
  {
   "cell_type": "markdown",
   "metadata": {},
   "source": [
    "# Example\n",
    "\n",
    "Example script for PIV analysis using PIVSuite Python.\n\nThis script demonstrates how to use the PIVSuite Python package to analyze\na pair of PIV images and visualize the results."
   ]
  },
  {
   "cell_type": "code",
   "execution_count": null,
   "metadata": {},
   "outputs": [],
   "source": [
    "import os\n",
    "import sys\n",
    "import numpy as np\n",
    "import matplotlib.pyplot as plt\n",
    "from pathlib import Path\n",
    "\n",
    "# Add the parent directory to the path so we can import the pivsuite package\n",
    "sys.path.append(str(Path().absolute().parent))\n",
    "\n",
    "from pivsuite.core import analyze_image_pair, piv_params\n",
    "from pivsuite.visualization import quiver_plot, vector_plot, streamline_plot\n",
    "from pivsuite.utils.io import load_image"
   ]
  },
  {
   "cell_type": "markdown",
   "metadata": {},
   "source": [
    "## Setup\n",
    "\n",
    "First, we need to set up the environment and load the data."
   ]
  },
  {
   "cell_type": "code",
   "execution_count": null,
   "metadata": {},
   "outputs": [],
   "source": [
    "    print(\"\\nRUNNING EXAMPLE_PIV_ANALYSIS...\")",
    "    "
   ]
  },
  {
   "cell_type": "markdown",
   "metadata": {},
   "source": [
    "## Define paths to images\n",
    "\n",
    "This section demonstrates define paths to images."
   ]
  },
  {
   "cell_type": "code",
   "execution_count": null,
   "metadata": {},
   "outputs": [],
   "source": [
    "    data_dir = Path().absolute().parent.parent / \"Data\" / \"Test PIVChallenge3A1\"",
    "    im1_path = str(data_dir / \"A1000_a.tif\")",
    "    im2_path = str(data_dir / \"A1000_b.tif\")",
    "    ",
    "    # Check if the image files exist",
    "    if not os.path.exists(im1_path) or not os.path.exists(im2_path):",
    "        print(f\"Error: Image files not found. Please check the paths.\")",
    "        return",
    "    ",
    "    print(f\"Image paths:\\n  {im1_path}\\n  {im2_path}\")",
    "    ",
    "    # Set PIV parameters",
    "    piv_par = {}",
    "    piv_par = piv_params(None, piv_par, 'defaults')",
    "    "
   ]
  },
  {
   "cell_type": "markdown",
   "metadata": {},
   "source": [
    "## Customize parameters\n",
    "\n",
    "This section demonstrates customize parameters."
   ]
  },
  {
   "cell_type": "code",
   "execution_count": null,
   "metadata": {},
   "outputs": [],
   "source": [
    "    piv_par['ia_size_x'] = [64, 32, 16]  # Interrogation area size in x",
    "    piv_par['ia_size_y'] = [64, 32, 16]  # Interrogation area size in y",
    "    piv_par['ia_step_x'] = [32, 16, 8]   # Interrogation area step in x",
    "    piv_par['ia_step_y'] = [32, 16, 8]   # Interrogation area step in y",
    "    piv_par['ia_method'] = 'defspline'   # Interrogation method ('basic', 'offset', 'defspline')",
    "    piv_par['cc_window'] = 'welch'       # Window function for cross-correlation",
    "    piv_par['vl_thresh'] = 2.0           # Threshold for median test",
    "    piv_par['rp_method'] = 'linear'      # Method for replacing spurious vectors",
    "    piv_par['sm_method'] = 'gaussian'    # Smoothing method",
    "    piv_par['sm_sigma'] = 1.0            # Smoothing parameter",
    "    ",
    "    # Create output directory if it doesn't exist",
    "    output_dir = Path().absolute().parent / \"output\"",
    "    output_dir.mkdir(exist_ok=True)",
    "    "
   ]
  },
  {
   "cell_type": "markdown",
   "metadata": {},
   "source": [
    "## Analyze image pair\n",
    "\n",
    "This section demonstrates analyze image pair."
   ]
  },
  {
   "cell_type": "code",
   "execution_count": null,
   "metadata": {},
   "outputs": [],
   "source": [
    "    print(\"Analyzing image pair...\")",
    "    piv_data, _ = analyze_image_pair(im1_path, im2_path, None, piv_par)",
    "    "
   ]
  },
  {
   "cell_type": "markdown",
   "metadata": {},
   "source": [
    "## Print some statistics\n",
    "\n",
    "This section demonstrates print some statistics."
   ]
  },
  {
   "cell_type": "code",
   "execution_count": null,
   "metadata": {},
   "outputs": [],
   "source": [
    "    print(f\"Number of vectors: {piv_data['n']}\")",
    "    print(f\"Number of masked vectors: {piv_data['masked_n']}\")",
    "    print(f\"Number of spurious vectors: {piv_data['spurious_n']}\")",
    "    "
   ]
  },
  {
   "cell_type": "markdown",
   "metadata": {},
   "source": [
    "## Load the first image for background\n",
    "\n",
    "This section demonstrates load the first image for background."
   ]
  },
  {
   "cell_type": "code",
   "execution_count": null,
   "metadata": {},
   "outputs": [],
   "source": [
    "    from skimage import io",
    "    im1 = io.imread(im1_path)",
    "    ",
    "    # Create quiver plot",
    "    print(\"Creating quiver plot...\")",
    "    quiver_plot(",
    "        piv_data,",
    "        scale=1.0,",
    "        skip=2,",
    "        color='r',",
    "        background_image=im1,",
    "        title='PIV Velocity Field',",
    "        output_path=str(output_dir / \"piv_quiver_plot.png\"),",
    "        show=True",
    "    )",
    "    ",
    "    # Create vector plot of velocity magnitude",
    "    print(\"Creating vector plot of velocity magnitude...\")",
    "    vector_plot(",
    "        piv_data,",
    "        component='magnitude',",
    "        cmap='jet',",
    "        title='PIV Velocity Magnitude',",
    "        output_path=str(output_dir / \"piv_velocity_magnitude.png\"),",
    "        show=True",
    "    )",
    "    ",
    "    # Create vector plot of vorticity",
    "    print(\"Creating vector plot of vorticity...\")",
    "    vector_plot(",
    "        piv_data,",
    "        component='vorticity',",
    "        cmap='RdBu_r',",
    "        title='PIV Vorticity',",
    "        output_path=str(output_dir / \"piv_vorticity.png\"),",
    "        show=True",
    "    )",
    "    ",
    "    # Create streamline plot",
    "    print(\"Creating streamline plot...\")",
    "    streamline_plot(",
    "        piv_data,",
    "        density=1.0,",
    "        color='b',",
    "        background_image=im1,",
    "        title='PIV Streamlines',",
    "        output_path=str(output_dir / \"piv_streamlines.png\"),",
    "        show=True",
    "    )",
    "    ",
    "    print(\"All plots saved to the output directory.\")"
   ]
  },
  {
   "cell_type": "markdown",
   "metadata": {},
   "source": [
    "## Conclusion\n",
    "\n",
    "In this example, we've demonstrated example. We've shown how to:\n",
    "\n",
    "1. Set up the PIV parameters\n",
    "2. Analyze image data\n",
    "3. Visualize the results\n",
    "\n",
    "All plots have been saved to the output directory."
   ]
  }
 ],
 "metadata": {
  "kernelspec": {
   "display_name": "Python 3",
   "language": "python",
   "name": "python3"
  },
  "language_info": {
   "codemirror_mode": {
    "name": "ipython",
    "version": 3
   },
   "file_extension": ".py",
   "mimetype": "text/x-python",
   "name": "python",
   "nbconvert_exporter": "python",
   "pygments_lexer": "ipython3",
   "version": "3.8.10"
  }
 },
 "nbformat": 4,
 "nbformat_minor": 4
}