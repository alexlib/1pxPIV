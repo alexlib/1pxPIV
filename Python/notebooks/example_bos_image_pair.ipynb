{
 "cells": [
  {
   "cell_type": "markdown",
   "metadata": {},
   "source": [
    "# Example\n",
    "\n",
    "Example script for analyzing a pair of BOS (Background-Oriented Schlieren) images.\n\nThis script demonstrates how to use the PIVSuite Python package to analyze\nBOS images and visualize density gradients in fluids."
   ]
  },
  {
   "cell_type": "code",
   "execution_count": null,
   "metadata": {},
   "outputs": [],
   "source": [
    "import os\n",
    "import sys\n",
    "import numpy as np\n",
    "import matplotlib.pyplot as plt\n",
    "from pathlib import Path\n",
    "\n",
    "# Add the parent directory to the path so we can import the pivsuite package\n",
    "sys.path.append(str(Path().absolute().parent))\n",
    "\n",
    "from pivsuite.core import analyze_image_pair, piv_params\n",
    "from pivsuite.visualization import quiver_plot, vector_plot, streamline_plot\n",
    "from pivsuite.utils.io import load_image"
   ]
  },
  {
   "cell_type": "markdown",
   "metadata": {},
   "source": [
    "## Setup\n",
    "\n",
    "First, we need to set up the environment and load the data."
   ]
  },
  {
   "cell_type": "code",
   "execution_count": null,
   "metadata": {},
   "outputs": [],
   "source": [
    "    print(\"\\nRUNNING EXAMPLE_BOS_IMAGE_PAIR...\")",
    "    t_start = time.time()",
    ""
   ]
  },
  {
   "cell_type": "markdown",
   "metadata": {},
   "source": [
    "## Define paths to images\n",
    "\n",
    "This section demonstrates define paths to images."
   ]
  },
  {
   "cell_type": "code",
   "execution_count": null,
   "metadata": {},
   "outputs": [],
   "source": [
    "    data_dir = Path().absolute().parent.parent / \"Data\" / \"Test BOS\"",
    "    im1_path = str(data_dir / \"11-49-28.000-4.tif\")",
    "    im2_path = str(data_dir / \"11-49-28.000-6.tif\")",
    "    print(f\"Image paths:\\n  {im1_path}\\n  {im2_path}\")",
    "",
    "    # Check if the image files exist",
    "    if not os.path.exists(im1_path) or not os.path.exists(im2_path):",
    "        print(f\"Error: Image files not found. Please check the paths.\")",
    "        return",
    "    print(f\"Image paths:\\n  {im1_path}\\n  {im2_path}\")",
    "",
    "    # Check if the image files exist",
    "    if not os.path.exists(im1_path) or not os.path.exists(im2_path):",
    "        print(f\"Error: Image files not found. Please check the paths.\")",
    "        return",
    "",
    "    # Set parameters for analysis",
    "    window_size = 32",
    "    step_size = 16",
    "    scale = 0.25  # Process at 25% of original size for faster computation",
    "    start_row = 200  # Start analysis from row 200",
    ""
   ]
  },
  {
   "cell_type": "markdown",
   "metadata": {},
   "source": [
    "## Analyze BOS image pair\n",
    "\n",
    "This section demonstrates analyze bos image pair."
   ]
  },
  {
   "cell_type": "code",
   "execution_count": null,
   "metadata": {},
   "outputs": [],
   "source": [
    "    results = analyze_bos_image_pair(",
    "        im1_path=im1_path,",
    "        im2_path=im2_path,",
    "        window_size=window_size,",
    "        step_size=step_size,",
    "        scale=scale,",
    "        start_row=start_row",
    "    )",
    "",
    "    # Create output directory if it doesn't exist",
    "    output_dir = Path().absolute().parent / \"output\"",
    "    output_dir.mkdir(exist_ok=True)",
    ""
   ]
  },
  {
   "cell_type": "markdown",
   "metadata": {},
   "source": [
    "## Plot results\n",
    "\n",
    "This section demonstrates plot results."
   ]
  },
  {
   "cell_type": "code",
   "execution_count": null,
   "metadata": {},
   "outputs": [],
   "source": [
    "    print(\"Creating quiver plot over the image...\")",
    "    plot_bos_results(",
    "        results=results,",
    "        output_path=str(output_dir / \"bos_quiver_plot_lower.png\"),",
    "        quiver_scale=15.0,",
    "        arrow_width=2.0,",
    "        arrow_headsize=1.0,",
    "        show_background=True",
    "    )",
    ""
   ]
  },
  {
   "cell_type": "markdown",
   "metadata": {},
   "source": [
    "## Plot quiver only\n",
    "\n",
    "This section demonstrates plot quiver only."
   ]
  },
  {
   "cell_type": "code",
   "execution_count": null,
   "metadata": {},
   "outputs": [],
   "source": [
    "    print(\"Creating quiver-only plot...\")",
    "    plot_bos_quiver_only(",
    "        results=results,",
    "        output_path=str(output_dir / \"bos_quiver_only_lower.png\"),",
    "        quiver_scale=15.0,",
    "        arrow_width=2.0,",
    "        arrow_headsize=1.0",
    "    )",
    ""
   ]
  },
  {
   "cell_type": "markdown",
   "metadata": {},
   "source": [
    "## Compute and plot additional fields\n",
    "\n",
    "This section demonstrates compute and plot additional fields."
   ]
  },
  {
   "cell_type": "code",
   "execution_count": null,
   "metadata": {},
   "outputs": [],
   "source": [
    "    print(\"Computing and plotting additional fields...\")",
    ""
   ]
  },
  {
   "cell_type": "markdown",
   "metadata": {},
   "source": [
    "## Compute magnitude\n",
    "\n",
    "This section demonstrates compute magnitude."
   ]
  },
  {
   "cell_type": "code",
   "execution_count": null,
   "metadata": {},
   "outputs": [],
   "source": [
    "    magnitude = compute_bos_magnitude(results)",
    "",
    "    # Create figure for magnitude",
    "    plt.figure(figsize=(10, 8))",
    "    plt.pcolormesh(results['x'], results['y'], magnitude, cmap='jet', shading='auto')",
    "    plt.colorbar(label='Displacement Magnitude')",
    "    plt.title('BOS Displacement Magnitude', fontsize=14)",
    "    plt.axis('equal')",
    "    plt.tight_layout()",
    "    plt.savefig(str(output_dir / \"bos_magnitude_lower.png\"), dpi=300)",
    ""
   ]
  },
  {
   "cell_type": "markdown",
   "metadata": {},
   "source": [
    "## Compute curl (vorticity)\n",
    "\n",
    "This section demonstrates compute curl (vorticity)."
   ]
  },
  {
   "cell_type": "code",
   "execution_count": null,
   "metadata": {},
   "outputs": [],
   "source": [
    "    curl = compute_bos_curl(results)",
    "",
    "    # Create figure for curl",
    "    plt.figure(figsize=(10, 8))",
    "    plt.pcolormesh(results['x'], results['y'], curl, cmap='RdBu_r', shading='auto')",
    "    plt.colorbar(label='Curl')",
    "    plt.title('BOS Displacement Curl', fontsize=14)",
    "    plt.axis('equal')",
    "    plt.tight_layout()",
    "    plt.savefig(str(output_dir / \"bos_curl_lower.png\"), dpi=300)",
    ""
   ]
  },
  {
   "cell_type": "markdown",
   "metadata": {},
   "source": [
    "## Conclusion\n",
    "\n",
    "In this example, we've demonstrated example. We've shown how to:\n",
    "\n",
    "1. Set up the PIV parameters\n",
    "2. Analyze image data\n",
    "3. Visualize the results\n",
    "\n",
    "All plots have been saved to the output directory."
   ]
  }
 ],
 "metadata": {
  "kernelspec": {
   "display_name": "Python 3",
   "language": "python",
   "name": "python3"
  },
  "language_info": {
   "codemirror_mode": {
    "name": "ipython",
    "version": 3
   },
   "file_extension": ".py",
   "mimetype": "text/x-python",
   "name": "python",
   "nbconvert_exporter": "python",
   "pygments_lexer": "ipython3",
   "version": "3.8.10"
  }
 },
 "nbformat": 4,
 "nbformat_minor": 4
}